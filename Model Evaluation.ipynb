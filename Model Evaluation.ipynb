{
 "cells": [
  {
   "cell_type": "code",
   "execution_count": 1,
   "metadata": {
    "collapsed": true
   },
   "outputs": [],
   "source": [
    "import numpy as np\n",
    "import pandas as pd\n",
    "from sklearn.externals import joblib\n",
    "from sklearn.ensemble import RandomForestClassifier\n",
    "from xgboost import XGBClassifier\n",
    "from matplotlib import pyplot as plt\n",
    "\n",
    "%matplotlib inline\n",
    "np.random.seed(42)\n",
    "from sklearn.metrics import accuracy_score, precision_score, recall_score"
   ]
  },
  {
   "cell_type": "code",
   "execution_count": 2,
   "metadata": {
    "collapsed": true
   },
   "outputs": [],
   "source": [
    "# Dictionary that contains mapping of various attacks to the four main categories\n",
    "attack_dict = {\n",
    "    'normal': 'normal',\n",
    "   \n",
    "    'back': 'DoS',\n",
    "    'land': 'DoS',\n",
    "    'neptune': 'DoS',\n",
    "    'pod': 'DoS',\n",
    "    'smurf': 'DoS',\n",
    "    'teardrop': 'DoS',\n",
    "    'mailbomb': 'DoS',\n",
    "    'apache2': 'DoS',\n",
    "    'processtable': 'DoS',\n",
    "    'udpstorm': 'DoS',\n",
    "    \n",
    "    'ipsweep': 'Probe',\n",
    "    'nmap': 'Probe',\n",
    "    'portsweep': 'Probe',\n",
    "    'satan': 'Probe',\n",
    "    'mscan': 'Probe',\n",
    "    'saint': 'Probe',\n",
    "\n",
    "    'ftp_write': 'R2L',\n",
    "    'guess_passwd': 'R2L',\n",
    "    'imap': 'R2L',\n",
    "    'multihop': 'R2L',\n",
    "    'phf': 'R2L',\n",
    "    'spy': 'R2L',\n",
    "    'warezclient': 'R2L',\n",
    "    'warezmaster': 'R2L',\n",
    "    'sendmail': 'R2L',\n",
    "    'named': 'R2L',\n",
    "    'snmpgetattack': 'R2L',\n",
    "    'snmpguess': 'R2L',\n",
    "    'xlock': 'R2L',\n",
    "    'xsnoop': 'R2L',\n",
    "    'worm': 'R2L',\n",
    "    \n",
    "    'buffer_overflow': 'U2R',\n",
    "    'loadmodule': 'U2R',\n",
    "    'perl': 'U2R',\n",
    "    'rootkit': 'U2R',\n",
    "    'httptunnel': 'U2R',\n",
    "    'ps': 'U2R',    \n",
    "    'sqlattack': 'U2R',\n",
    "    'xterm': 'U2R'\n",
    "}"
   ]
  },
  {
   "cell_type": "code",
   "execution_count": 3,
   "metadata": {},
   "outputs": [
    {
     "data": {
      "text/plain": [
       "(148517, 42)"
      ]
     },
     "execution_count": 3,
     "metadata": {},
     "output_type": "execute_result"
    }
   ],
   "source": [
    "train_nsl_kdd_dataset_path = \"NSL_KDD_Dataset/KDDTrain+.txt\"\n",
    "col_names = np.array([\"duration\",\"protocol_type\",\"service\",\"flag\",\"src_bytes\",\n",
    "    \"dst_bytes\",\"land\",\"wrong_fragment\",\"urgent\",\"hot\",\"num_failed_logins\",\n",
    "    \"logged_in\",\"num_compromised\",\"root_shell\",\"su_attempted\",\"num_root\",\n",
    "    \"num_file_creations\",\"num_shells\",\"num_access_files\",\"num_outbound_cmds\",\n",
    "    \"is_host_login\",\"is_guest_login\",\"count\",\"srv_count\",\"serror_rate\",\n",
    "    \"srv_serror_rate\",\"rerror_rate\",\"srv_rerror_rate\",\"same_srv_rate\",\n",
    "    \"diff_srv_rate\",\"srv_diff_host_rate\",\"dst_host_count\",\"dst_host_srv_count\",\n",
    "    \"dst_host_same_srv_rate\",\"dst_host_diff_srv_rate\",\"dst_host_same_src_port_rate\",\n",
    "    \"dst_host_srv_diff_host_rate\",\"dst_host_serror_rate\",\"dst_host_srv_serror_rate\",\n",
    "    \"dst_host_rerror_rate\",\"dst_host_srv_rerror_rate\",\"labels\"])\n",
    "\n",
    "categoricalColumns = col_names[[1,2,3]]\n",
    "binaryColumns = col_names[[6, 11, 13, 14, 20, 21]]\n",
    "numericColumns = col_names[list(set(range(41)) - set([1,2,3]) - set([6, 11, 13, 14, 20, 21]))]\n",
    "\n",
    "train = pd.read_csv(train_nsl_kdd_dataset_path, header=None)\n",
    "train.drop([42], 1, inplace=True)\n",
    "train.columns = col_names\n",
    "\n",
    "testData = pd.read_csv(\"NSL_KDD_Dataset/KDDTest+.txt\", header=None)\n",
    "\n",
    "testData.drop([42], 1, inplace=True)\n",
    "testData.columns = col_names\n",
    "\n",
    "mergedDataSet = pd.concat([train, testData]).reset_index(drop=True)\n",
    "mergedDataSet.shape"
   ]
  },
  {
   "cell_type": "code",
   "execution_count": 4,
   "metadata": {
    "collapsed": true
   },
   "outputs": [],
   "source": [
    "# Performing all the encoding\n",
    "from sklearn.preprocessing import OneHotEncoder, LabelEncoder\n",
    "enc = LabelEncoder()\n",
    "#\n",
    "def encodeCategorical(ser):\n",
    "    return enc.fit_transform(ser)\n",
    "\n",
    "mergedDataSet['service'] = encodeCategorical(mergedDataSet['service'])\n",
    "mergedDataSet['flag'] = encodeCategorical(mergedDataSet['flag'])\n",
    "mergedDataSet = pd.get_dummies(mergedDataSet, columns=['protocol_type'])\n",
    "mergedDataSet['labelsMapped'] = mergedDataSet['labels'].map(lambda x: attack_dict[x])"
   ]
  },
  {
   "cell_type": "code",
   "execution_count": 5,
   "metadata": {
    "collapsed": true
   },
   "outputs": [],
   "source": [
    "testDataSet = mergedDataSet.loc[train.shape[0]:,:]\n",
    "trainDataSet = mergedDataSet.loc[:train.shape[0], :]"
   ]
  },
  {
   "cell_type": "code",
   "execution_count": 6,
   "metadata": {},
   "outputs": [
    {
     "name": "stderr",
     "output_type": "stream",
     "text": [
      "/Users/shashankbhushan/anaconda2/lib/python2.7/site-packages/ipykernel_launcher.py:12: RuntimeWarning: invalid value encountered in divide\n",
      "  if sys.path[0] == '':\n"
     ]
    },
    {
     "name": "stdout",
     "output_type": "stream",
     "text": [
      "OrderedDict([('num_shells', 326.11612426035498), ('urgent', 173.04120879120879), ('num_file_creations', 62.234118951224211), ('num_failed_logins', 46.03892188213797), ('hot', 40.774840493730785), ('logged_in', 10.569767441860465), ('dst_bytes', 9.1549270284904676), ('src_bytes', 8.4641313944594359), ('duration', 7.2258865173544695), ('dst_host_srv_diff_host_rate', 5.7569263820766396), ('dst_host_diff_srv_rate', 4.8373524734680329), ('num_access_files', 4.6949165175909364), ('dst_host_same_src_port_rate', 4.3931152520736072), ('num_compromised', 4.3385737152153654), ('diff_srv_rate', 4.0690870488934809), ('dst_host_srv_rerror_rate', 3.6677075035125544), ('srv_rerror_rate', 3.6675306730359276), ('rerror_rate', 3.6453737959679429), ('dst_host_rerror_rate', 3.2793738892262856), ('srv_diff_host_rate', 3.0815901722227639), ('wrong_fragment', 2.7428583870405849), ('dst_host_srv_serror_rate', 2.6731226120858391), ('srv_serror_rate', 2.6432097487171315), ('serror_rate', 2.6310182415379524), ('dst_host_serror_rate', 2.6293032738050797), ('num_root', 2.6091639656970118), ('count', 2.1173925186430997), ('dst_host_srv_count', 1.6453281162805804), ('dst_host_same_srv_rate', 1.5575902435127786), ('same_srv_rate', 1.507972446643268), ('dst_host_count', 1.3428566662140144), ('srv_count', 1.1773073019801006), ('root_shell', 1.0), ('su_attempted', 0.0020534186444460976), ('land', 0.00039207144412981921), ('is_host_login', 1.4849573817231445e-05), ('num_outbound_cmds', nan), ('is_guest_login', 0.45894428152492667)])\n"
     ]
    },
    {
     "data": {
      "text/html": [
       "<div>\n",
       "<style>\n",
       "    .dataframe thead tr:only-child th {\n",
       "        text-align: right;\n",
       "    }\n",
       "\n",
       "    .dataframe thead th {\n",
       "        text-align: left;\n",
       "    }\n",
       "\n",
       "    .dataframe tbody tr th {\n",
       "        vertical-align: top;\n",
       "    }\n",
       "</style>\n",
       "<table border=\"1\" class=\"dataframe\">\n",
       "  <thead>\n",
       "    <tr style=\"text-align: right;\">\n",
       "      <th></th>\n",
       "      <th>num_access_files</th>\n",
       "      <th>src_bytes</th>\n",
       "      <th>srv_count</th>\n",
       "      <th>num_compromised</th>\n",
       "      <th>rerror_rate</th>\n",
       "      <th>urgent</th>\n",
       "      <th>dst_host_same_srv_rate</th>\n",
       "      <th>duration</th>\n",
       "      <th>srv_rerror_rate</th>\n",
       "      <th>srv_serror_rate</th>\n",
       "      <th>...</th>\n",
       "      <th>dst_host_srv_rerror_rate</th>\n",
       "      <th>srv_diff_host_rate</th>\n",
       "      <th>num_failed_logins</th>\n",
       "      <th>dst_host_serror_rate</th>\n",
       "      <th>labelsMapped</th>\n",
       "      <th>protocol_type_icmp</th>\n",
       "      <th>protocol_type_tcp</th>\n",
       "      <th>protocol_type_udp</th>\n",
       "      <th>service</th>\n",
       "      <th>flag</th>\n",
       "    </tr>\n",
       "  </thead>\n",
       "  <tbody>\n",
       "    <tr>\n",
       "      <th>0</th>\n",
       "      <td>0</td>\n",
       "      <td>491</td>\n",
       "      <td>2</td>\n",
       "      <td>0</td>\n",
       "      <td>0.0</td>\n",
       "      <td>0</td>\n",
       "      <td>0.17</td>\n",
       "      <td>0</td>\n",
       "      <td>0.0</td>\n",
       "      <td>0.0</td>\n",
       "      <td>...</td>\n",
       "      <td>0.00</td>\n",
       "      <td>0.00</td>\n",
       "      <td>0</td>\n",
       "      <td>0.00</td>\n",
       "      <td>normal</td>\n",
       "      <td>0</td>\n",
       "      <td>1</td>\n",
       "      <td>0</td>\n",
       "      <td>20</td>\n",
       "      <td>9</td>\n",
       "    </tr>\n",
       "    <tr>\n",
       "      <th>1</th>\n",
       "      <td>0</td>\n",
       "      <td>146</td>\n",
       "      <td>1</td>\n",
       "      <td>0</td>\n",
       "      <td>0.0</td>\n",
       "      <td>0</td>\n",
       "      <td>0.00</td>\n",
       "      <td>0</td>\n",
       "      <td>0.0</td>\n",
       "      <td>0.0</td>\n",
       "      <td>...</td>\n",
       "      <td>0.00</td>\n",
       "      <td>0.00</td>\n",
       "      <td>0</td>\n",
       "      <td>0.00</td>\n",
       "      <td>normal</td>\n",
       "      <td>0</td>\n",
       "      <td>0</td>\n",
       "      <td>1</td>\n",
       "      <td>44</td>\n",
       "      <td>9</td>\n",
       "    </tr>\n",
       "    <tr>\n",
       "      <th>2</th>\n",
       "      <td>0</td>\n",
       "      <td>0</td>\n",
       "      <td>6</td>\n",
       "      <td>0</td>\n",
       "      <td>0.0</td>\n",
       "      <td>0</td>\n",
       "      <td>0.10</td>\n",
       "      <td>0</td>\n",
       "      <td>0.0</td>\n",
       "      <td>1.0</td>\n",
       "      <td>...</td>\n",
       "      <td>0.00</td>\n",
       "      <td>0.00</td>\n",
       "      <td>0</td>\n",
       "      <td>1.00</td>\n",
       "      <td>DoS</td>\n",
       "      <td>0</td>\n",
       "      <td>1</td>\n",
       "      <td>0</td>\n",
       "      <td>49</td>\n",
       "      <td>5</td>\n",
       "    </tr>\n",
       "    <tr>\n",
       "      <th>3</th>\n",
       "      <td>0</td>\n",
       "      <td>232</td>\n",
       "      <td>5</td>\n",
       "      <td>0</td>\n",
       "      <td>0.0</td>\n",
       "      <td>0</td>\n",
       "      <td>1.00</td>\n",
       "      <td>0</td>\n",
       "      <td>0.0</td>\n",
       "      <td>0.2</td>\n",
       "      <td>...</td>\n",
       "      <td>0.01</td>\n",
       "      <td>0.00</td>\n",
       "      <td>0</td>\n",
       "      <td>0.03</td>\n",
       "      <td>normal</td>\n",
       "      <td>0</td>\n",
       "      <td>1</td>\n",
       "      <td>0</td>\n",
       "      <td>24</td>\n",
       "      <td>9</td>\n",
       "    </tr>\n",
       "    <tr>\n",
       "      <th>4</th>\n",
       "      <td>0</td>\n",
       "      <td>199</td>\n",
       "      <td>32</td>\n",
       "      <td>0</td>\n",
       "      <td>0.0</td>\n",
       "      <td>0</td>\n",
       "      <td>1.00</td>\n",
       "      <td>0</td>\n",
       "      <td>0.0</td>\n",
       "      <td>0.0</td>\n",
       "      <td>...</td>\n",
       "      <td>0.00</td>\n",
       "      <td>0.09</td>\n",
       "      <td>0</td>\n",
       "      <td>0.00</td>\n",
       "      <td>normal</td>\n",
       "      <td>0</td>\n",
       "      <td>1</td>\n",
       "      <td>0</td>\n",
       "      <td>24</td>\n",
       "      <td>9</td>\n",
       "    </tr>\n",
       "  </tbody>\n",
       "</table>\n",
       "<p>5 rows × 39 columns</p>\n",
       "</div>"
      ],
      "text/plain": [
       "   num_access_files  src_bytes  srv_count  num_compromised  rerror_rate  \\\n",
       "0                 0        491          2                0          0.0   \n",
       "1                 0        146          1                0          0.0   \n",
       "2                 0          0          6                0          0.0   \n",
       "3                 0        232          5                0          0.0   \n",
       "4                 0        199         32                0          0.0   \n",
       "\n",
       "   urgent  dst_host_same_srv_rate  duration  srv_rerror_rate  srv_serror_rate  \\\n",
       "0       0                    0.17         0              0.0              0.0   \n",
       "1       0                    0.00         0              0.0              0.0   \n",
       "2       0                    0.10         0              0.0              1.0   \n",
       "3       0                    1.00         0              0.0              0.2   \n",
       "4       0                    1.00         0              0.0              0.0   \n",
       "\n",
       "   ...   dst_host_srv_rerror_rate  srv_diff_host_rate  num_failed_logins  \\\n",
       "0  ...                       0.00                0.00                  0   \n",
       "1  ...                       0.00                0.00                  0   \n",
       "2  ...                       0.00                0.00                  0   \n",
       "3  ...                       0.01                0.00                  0   \n",
       "4  ...                       0.00                0.09                  0   \n",
       "\n",
       "   dst_host_serror_rate  labelsMapped  protocol_type_icmp  protocol_type_tcp  \\\n",
       "0                  0.00        normal                   0                  1   \n",
       "1                  0.00        normal                   0                  0   \n",
       "2                  1.00           DoS                   0                  1   \n",
       "3                  0.03        normal                   0                  1   \n",
       "4                  0.00        normal                   0                  1   \n",
       "\n",
       "   protocol_type_udp  service  flag  \n",
       "0                  0       20     9  \n",
       "1                  1       44     9  \n",
       "2                  0       49     5  \n",
       "3                  0       24     9  \n",
       "4                  0       24     9  \n",
       "\n",
       "[5 rows x 39 columns]"
      ]
     },
     "execution_count": 6,
     "metadata": {},
     "output_type": "execute_result"
    }
   ],
   "source": [
    "#binaryColumns = list(binaryColumns) + list(categoricalColumns[1:]) + [u'protocol_type_icmp', u'protocol_type_tcp', u'protocol_type_udp']\n",
    "import sys\n",
    "from collections import OrderedDict\n",
    "e = sys.float_info.epsilon\n",
    "def calAttributeRatio(df, numericColumns,binaryColumns):\n",
    "    denom = {}\n",
    "    ar = {}\n",
    "    for col in numericColumns:\n",
    "        denom[col] = df[col].mean();\n",
    "\n",
    "    for col in numericColumns:\n",
    "        ar[col] = df.fillna(value=0.0).groupby('labelsMapped')[[col]].mean().max().values[0]/(denom[col])\n",
    "\n",
    "    def test_sum(series):\n",
    "        return (series.sum()/(len(series)-series.sum()+e))\n",
    "    for col in binaryColumns:\n",
    "        groups = df.groupby('labelsMapped')[[col]]\n",
    "        ar[col] = groups.aggregate([test_sum]).max().values[0]\n",
    "    return ar\n",
    "\n",
    "ar_op = calAttributeRatio(trainDataSet,numericColumns,binaryColumns)\n",
    "print(OrderedDict(sorted(ar_op.items(), key=lambda v: -v[1])))\n",
    "def selectTopFeaturesByAR(ar_op, min_ar):\n",
    "    return [c for c in ar_op.keys() if ar_op[c]>=min_ar]\n",
    "selectedFeatures = selectTopFeaturesByAR(ar_op,1.00)\n",
    "train_processed_selectedFeatures = pd.concat([trainDataSet[selectedFeatures], trainDataSet[['labelsMapped', u'protocol_type_icmp', u'protocol_type_tcp', u'protocol_type_udp', u'service', u'flag']]], axis=1)\n",
    "train_processed_selectedFeatures.head()"
   ]
  },
  {
   "cell_type": "code",
   "execution_count": 7,
   "metadata": {
    "collapsed": true
   },
   "outputs": [],
   "source": [
    "#removing the columns from test data set\n",
    "test_processed_selectedFeatures = testDataSet[train_processed_selectedFeatures.columns]"
   ]
  },
  {
   "cell_type": "code",
   "execution_count": 8,
   "metadata": {},
   "outputs": [
    {
     "name": "stdout",
     "output_type": "stream",
     "text": [
      "Accuracy Score 0.738644428673\n",
      "Precision Score 0.776658972406\n",
      "Recall Score 0.738644428673\n"
     ]
    },
    {
     "data": {
      "text/html": [
       "<div>\n",
       "<style>\n",
       "    .dataframe thead tr:only-child th {\n",
       "        text-align: right;\n",
       "    }\n",
       "\n",
       "    .dataframe thead th {\n",
       "        text-align: left;\n",
       "    }\n",
       "\n",
       "    .dataframe tbody tr th {\n",
       "        vertical-align: top;\n",
       "    }\n",
       "</style>\n",
       "<table border=\"1\" class=\"dataframe\">\n",
       "  <thead>\n",
       "    <tr style=\"text-align: right;\">\n",
       "      <th>Predicted</th>\n",
       "      <th>DoS</th>\n",
       "      <th>Probe</th>\n",
       "      <th>R2L</th>\n",
       "      <th>U2R</th>\n",
       "      <th>normal</th>\n",
       "      <th>All</th>\n",
       "    </tr>\n",
       "    <tr>\n",
       "      <th>True</th>\n",
       "      <th></th>\n",
       "      <th></th>\n",
       "      <th></th>\n",
       "      <th></th>\n",
       "      <th></th>\n",
       "      <th></th>\n",
       "    </tr>\n",
       "  </thead>\n",
       "  <tbody>\n",
       "    <tr>\n",
       "      <th>DoS</th>\n",
       "      <td>5743</td>\n",
       "      <td>30</td>\n",
       "      <td>0</td>\n",
       "      <td>0</td>\n",
       "      <td>1685</td>\n",
       "      <td>7458</td>\n",
       "    </tr>\n",
       "    <tr>\n",
       "      <th>Probe</th>\n",
       "      <td>178</td>\n",
       "      <td>1452</td>\n",
       "      <td>0</td>\n",
       "      <td>0</td>\n",
       "      <td>791</td>\n",
       "      <td>2421</td>\n",
       "    </tr>\n",
       "    <tr>\n",
       "      <th>R2L</th>\n",
       "      <td>0</td>\n",
       "      <td>3</td>\n",
       "      <td>11</td>\n",
       "      <td>2</td>\n",
       "      <td>2738</td>\n",
       "      <td>2754</td>\n",
       "    </tr>\n",
       "    <tr>\n",
       "      <th>U2R</th>\n",
       "      <td>0</td>\n",
       "      <td>8</td>\n",
       "      <td>4</td>\n",
       "      <td>2</td>\n",
       "      <td>186</td>\n",
       "      <td>200</td>\n",
       "    </tr>\n",
       "    <tr>\n",
       "      <th>normal</th>\n",
       "      <td>81</td>\n",
       "      <td>185</td>\n",
       "      <td>0</td>\n",
       "      <td>1</td>\n",
       "      <td>9444</td>\n",
       "      <td>9711</td>\n",
       "    </tr>\n",
       "    <tr>\n",
       "      <th>All</th>\n",
       "      <td>6002</td>\n",
       "      <td>1678</td>\n",
       "      <td>15</td>\n",
       "      <td>5</td>\n",
       "      <td>14844</td>\n",
       "      <td>22544</td>\n",
       "    </tr>\n",
       "  </tbody>\n",
       "</table>\n",
       "</div>"
      ],
      "text/plain": [
       "Predicted   DoS  Probe  R2L  U2R  normal    All\n",
       "True                                           \n",
       "DoS        5743     30    0    0    1685   7458\n",
       "Probe       178   1452    0    0     791   2421\n",
       "R2L           0      3   11    2    2738   2754\n",
       "U2R           0      8    4    2     186    200\n",
       "normal       81    185    0    1    9444   9711\n",
       "All        6002   1678   15    5   14844  22544"
      ]
     },
     "execution_count": 8,
     "metadata": {},
     "output_type": "execute_result"
    }
   ],
   "source": [
    "#Loading the models\n",
    "rand_forest_mdl = RandomForestClassifier(n_estimators = 100, max_depth = 20, class_weight=\"balanced\")\n",
    "X = train_processed_selectedFeatures.drop(['labelsMapped'], 1).reset_index(drop=True)\n",
    "y = train_processed_selectedFeatures['labelsMapped'].reset_index(drop=True)\n",
    "rand_forest_mdl.fit(X, y)\n",
    "pred_y = rand_forest_mdl.predict(test_processed_selectedFeatures.drop(['labelsMapped'], 1))\n",
    "print 'Accuracy Score', accuracy_score(test_processed_selectedFeatures['labelsMapped'], pred_y)\n",
    "print 'Precision Score', precision_score(test_processed_selectedFeatures['labelsMapped'], pred_y, average = \"weighted\")\n",
    "print 'Recall Score', recall_score(test_processed_selectedFeatures['labelsMapped'], pred_y, average = \"weighted\")\n",
    "pd.crosstab(test_processed_selectedFeatures['labelsMapped'].values, pred_y, rownames=['True'], colnames=['Predicted'], margins=True)"
   ]
  },
  {
   "cell_type": "code",
   "execution_count": 10,
   "metadata": {
    "scrolled": true
   },
   "outputs": [
    {
     "name": "stdout",
     "output_type": "stream",
     "text": [
      "Accuracy Score 0.773376508162\n",
      "Precision Score 0.819729104779\n",
      "Recall Score 0.773376508162\n"
     ]
    },
    {
     "data": {
      "text/html": [
       "<div>\n",
       "<style>\n",
       "    .dataframe thead tr:only-child th {\n",
       "        text-align: right;\n",
       "    }\n",
       "\n",
       "    .dataframe thead th {\n",
       "        text-align: left;\n",
       "    }\n",
       "\n",
       "    .dataframe tbody tr th {\n",
       "        vertical-align: top;\n",
       "    }\n",
       "</style>\n",
       "<table border=\"1\" class=\"dataframe\">\n",
       "  <thead>\n",
       "    <tr style=\"text-align: right;\">\n",
       "      <th>Predicted</th>\n",
       "      <th>DoS</th>\n",
       "      <th>Probe</th>\n",
       "      <th>R2L</th>\n",
       "      <th>U2R</th>\n",
       "      <th>normal</th>\n",
       "      <th>All</th>\n",
       "    </tr>\n",
       "    <tr>\n",
       "      <th>True</th>\n",
       "      <th></th>\n",
       "      <th></th>\n",
       "      <th></th>\n",
       "      <th></th>\n",
       "      <th></th>\n",
       "      <th></th>\n",
       "    </tr>\n",
       "  </thead>\n",
       "  <tbody>\n",
       "    <tr>\n",
       "      <th>DoS</th>\n",
       "      <td>6056</td>\n",
       "      <td>234</td>\n",
       "      <td>0</td>\n",
       "      <td>0</td>\n",
       "      <td>1168</td>\n",
       "      <td>7458</td>\n",
       "    </tr>\n",
       "    <tr>\n",
       "      <th>Probe</th>\n",
       "      <td>161</td>\n",
       "      <td>1775</td>\n",
       "      <td>1</td>\n",
       "      <td>0</td>\n",
       "      <td>484</td>\n",
       "      <td>2421</td>\n",
       "    </tr>\n",
       "    <tr>\n",
       "      <th>R2L</th>\n",
       "      <td>0</td>\n",
       "      <td>46</td>\n",
       "      <td>180</td>\n",
       "      <td>2</td>\n",
       "      <td>2526</td>\n",
       "      <td>2754</td>\n",
       "    </tr>\n",
       "    <tr>\n",
       "      <th>U2R</th>\n",
       "      <td>1</td>\n",
       "      <td>18</td>\n",
       "      <td>5</td>\n",
       "      <td>6</td>\n",
       "      <td>170</td>\n",
       "      <td>200</td>\n",
       "    </tr>\n",
       "    <tr>\n",
       "      <th>normal</th>\n",
       "      <td>83</td>\n",
       "      <td>208</td>\n",
       "      <td>1</td>\n",
       "      <td>1</td>\n",
       "      <td>9418</td>\n",
       "      <td>9711</td>\n",
       "    </tr>\n",
       "    <tr>\n",
       "      <th>All</th>\n",
       "      <td>6301</td>\n",
       "      <td>2281</td>\n",
       "      <td>187</td>\n",
       "      <td>9</td>\n",
       "      <td>13766</td>\n",
       "      <td>22544</td>\n",
       "    </tr>\n",
       "  </tbody>\n",
       "</table>\n",
       "</div>"
      ],
      "text/plain": [
       "Predicted   DoS  Probe  R2L  U2R  normal    All\n",
       "True                                           \n",
       "DoS        6056    234    0    0    1168   7458\n",
       "Probe       161   1775    1    0     484   2421\n",
       "R2L           0     46  180    2    2526   2754\n",
       "U2R           1     18    5    6     170    200\n",
       "normal       83    208    1    1    9418   9711\n",
       "All        6301   2281  187    9   13766  22544"
      ]
     },
     "execution_count": 10,
     "metadata": {},
     "output_type": "execute_result"
    }
   ],
   "source": [
    "mdl_xgb = XGBClassifier(n_estimators = 100, max_depth = 15, learning_rate = 0.01)\n",
    "mdl_xgb.fit(X, y)\n",
    "pred_y_xgb = mdl_xgb.predict(test_processed_selectedFeatures.drop(['labelsMapped'], 1))\n",
    "print \"Accuracy Score\", accuracy_score(test_processed_selectedFeatures['labelsMapped'], pred_y_xgb)\n",
    "print 'Precision Score', precision_score(test_processed_selectedFeatures['labelsMapped'], pred_y_xgb, average = \"weighted\")\n",
    "print 'Recall Score', recall_score(test_processed_selectedFeatures['labelsMapped'], pred_y_xgb, average = \"weighted\")\n",
    "pd.crosstab(test_processed_selectedFeatures['labelsMapped'].values, pred_y_xgb, rownames=['True'], colnames=['Predicted'], margins=True)"
   ]
  },
  {
   "cell_type": "code",
   "execution_count": 8,
   "metadata": {},
   "outputs": [
    {
     "name": "stdout",
     "output_type": "stream",
     "text": [
      "Accuracy Score 0.776259758694\n",
      "Precision Score 0.966463049467\n",
      "Recall Score 0.628769578431\n"
     ]
    },
    {
     "data": {
      "text/html": [
       "<div>\n",
       "<style>\n",
       "    .dataframe thead tr:only-child th {\n",
       "        text-align: right;\n",
       "    }\n",
       "\n",
       "    .dataframe thead th {\n",
       "        text-align: left;\n",
       "    }\n",
       "\n",
       "    .dataframe tbody tr th {\n",
       "        vertical-align: top;\n",
       "    }\n",
       "</style>\n",
       "<table border=\"1\" class=\"dataframe\">\n",
       "  <thead>\n",
       "    <tr style=\"text-align: right;\">\n",
       "      <th>Predicted</th>\n",
       "      <th>0</th>\n",
       "      <th>1</th>\n",
       "      <th>All</th>\n",
       "    </tr>\n",
       "    <tr>\n",
       "      <th>True</th>\n",
       "      <th></th>\n",
       "      <th></th>\n",
       "      <th></th>\n",
       "    </tr>\n",
       "  </thead>\n",
       "  <tbody>\n",
       "    <tr>\n",
       "      <th>0</th>\n",
       "      <td>9431</td>\n",
       "      <td>280</td>\n",
       "      <td>9711</td>\n",
       "    </tr>\n",
       "    <tr>\n",
       "      <th>1</th>\n",
       "      <td>4764</td>\n",
       "      <td>8069</td>\n",
       "      <td>12833</td>\n",
       "    </tr>\n",
       "    <tr>\n",
       "      <th>All</th>\n",
       "      <td>14195</td>\n",
       "      <td>8349</td>\n",
       "      <td>22544</td>\n",
       "    </tr>\n",
       "  </tbody>\n",
       "</table>\n",
       "</div>"
      ],
      "text/plain": [
       "Predicted      0     1    All\n",
       "True                         \n",
       "0           9431   280   9711\n",
       "1           4764  8069  12833\n",
       "All        14195  8349  22544"
      ]
     },
     "execution_count": 8,
     "metadata": {},
     "output_type": "execute_result"
    }
   ],
   "source": [
    "#Binary Attack check\n",
    "y_binary = train_processed_selectedFeatures['labelsMapped'].map(lambda x: 0 if x == \"normal\" else 1)\n",
    "rand_forest_mdl = RandomForestClassifier(n_estimators = 100, max_depth = 20, class_weight=\"balanced\")\n",
    "X = train_processed_selectedFeatures.drop(['labelsMapped'], 1).reset_index(drop=True)\n",
    "rand_forest_mdl.fit(X, y_binary)\n",
    "pred_y = rand_forest_mdl.predict(test_processed_selectedFeatures.drop(['labelsMapped'], 1))\n",
    "print \"Accuracy Score\", accuracy_score(test_processed_selectedFeatures['labelsMapped'].map(lambda x: 0 if x == \"normal\" else 1), pred_y)\n",
    "print 'Precision Score', precision_score(test_processed_selectedFeatures['labelsMapped'].map(lambda x: 0 if x == \"normal\" else 1), pred_y)\n",
    "print 'Recall Score', recall_score(test_processed_selectedFeatures['labelsMapped'].map(lambda x: 0 if x == \"normal\" else 1), pred_y)\n",
    "pd.crosstab(test_processed_selectedFeatures['labelsMapped'].map(lambda x: 0 if x == \"normal\" else 1).values, pred_y, rownames=['True'], colnames=['Predicted'], margins=True)"
   ]
  },
  {
   "cell_type": "code",
   "execution_count": null,
   "metadata": {
    "collapsed": true,
    "scrolled": true
   },
   "outputs": [],
   "source": []
  },
  {
   "cell_type": "code",
   "execution_count": 9,
   "metadata": {},
   "outputs": [
    {
     "name": "stdout",
     "output_type": "stream",
     "text": [
      "Accuracy 0.770981192335\n",
      "Precision Score 0.966772151899\n",
      "Recall Score 0.618951141588\n"
     ]
    },
    {
     "data": {
      "text/html": [
       "<div>\n",
       "<style>\n",
       "    .dataframe thead tr:only-child th {\n",
       "        text-align: right;\n",
       "    }\n",
       "\n",
       "    .dataframe thead th {\n",
       "        text-align: left;\n",
       "    }\n",
       "\n",
       "    .dataframe tbody tr th {\n",
       "        vertical-align: top;\n",
       "    }\n",
       "</style>\n",
       "<table border=\"1\" class=\"dataframe\">\n",
       "  <thead>\n",
       "    <tr style=\"text-align: right;\">\n",
       "      <th>Predicted</th>\n",
       "      <th>0</th>\n",
       "      <th>1</th>\n",
       "      <th>All</th>\n",
       "    </tr>\n",
       "    <tr>\n",
       "      <th>True</th>\n",
       "      <th></th>\n",
       "      <th></th>\n",
       "      <th></th>\n",
       "    </tr>\n",
       "  </thead>\n",
       "  <tbody>\n",
       "    <tr>\n",
       "      <th>0</th>\n",
       "      <td>9438</td>\n",
       "      <td>273</td>\n",
       "      <td>9711</td>\n",
       "    </tr>\n",
       "    <tr>\n",
       "      <th>1</th>\n",
       "      <td>4890</td>\n",
       "      <td>7943</td>\n",
       "      <td>12833</td>\n",
       "    </tr>\n",
       "    <tr>\n",
       "      <th>All</th>\n",
       "      <td>14328</td>\n",
       "      <td>8216</td>\n",
       "      <td>22544</td>\n",
       "    </tr>\n",
       "  </tbody>\n",
       "</table>\n",
       "</div>"
      ],
      "text/plain": [
       "Predicted      0     1    All\n",
       "True                         \n",
       "0           9438   273   9711\n",
       "1           4890  7943  12833\n",
       "All        14328  8216  22544"
      ]
     },
     "execution_count": 9,
     "metadata": {},
     "output_type": "execute_result"
    }
   ],
   "source": [
    "mdl_xgb_binary = XGBClassifier(n_estimators = 100, max_depth = 20, learning_rate = 1e-3)\n",
    "mdl_xgb_binary.fit(X, y_binary)\n",
    "pred_y_xgb_binary = mdl_xgb_binary.predict(test_processed_selectedFeatures.drop(['labelsMapped'], 1))\n",
    "print \"Accuracy\", accuracy_score(test_processed_selectedFeatures['labelsMapped'].map(lambda x: 0 if x == \"normal\" else 1), pred_y_xgb_binary)\n",
    "print 'Precision Score', precision_score(test_processed_selectedFeatures['labelsMapped'].map(lambda x: 0 if x == \"normal\" else 1), pred_y_xgb_binary)\n",
    "print 'Recall Score', recall_score(test_processed_selectedFeatures['labelsMapped'].map(lambda x: 0 if x == \"normal\" else 1), pred_y_xgb_binary)\n",
    "pd.crosstab(test_processed_selectedFeatures['labelsMapped'].map(lambda x: 0 if x == \"normal\" else 1).values, pred_y_xgb_binary, rownames=['True'], colnames=['Predicted'], margins=True)"
   ]
  },
  {
   "cell_type": "code",
   "execution_count": 31,
   "metadata": {},
   "outputs": [
    {
     "name": "stdout",
     "output_type": "stream",
     "text": [
      "Cut Off 0.0\n",
      "Accuracy 0.569242370476 Precision Score 0.569242370476 Recall Score 1.0\n",
      "*****************************************************\n",
      "Cut Off 0.0263157894737\n",
      "Accuracy 0.929249467708 Precision Score 0.91413620283 Recall Score 0.966492636172\n",
      "*****************************************************\n",
      "Cut Off 0.0526315789474\n",
      "Accuracy 0.917051100071 Precision Score 0.924034965576 Recall Score 0.930803397491\n",
      "*****************************************************\n",
      "Cut Off 0.0789473684211\n",
      "Accuracy 0.894960965224 Precision Score 0.927946348246 Recall Score 0.884126860438\n",
      "*****************************************************\n",
      "Cut Off 0.105263157895\n",
      "Accuracy 0.896646557842 Precision Score 0.955424507848 Recall Score 0.858489830905\n",
      "*****************************************************\n",
      "Cut Off 0.131578947368\n",
      "Accuracy 0.875088715401 Precision Score 0.961145382561 Recall Score 0.813449699992\n",
      "*****************************************************\n",
      "Cut Off 0.157894736842\n",
      "Accuracy 0.862047551455 Precision Score 0.961988026228 Recall Score 0.788825683784\n",
      "*****************************************************\n",
      "Cut Off 0.184210526316\n",
      "Accuracy 0.849449964514 Precision Score 0.962016642193 Recall Score 0.765760149614\n",
      "*****************************************************\n",
      "Cut Off 0.210526315789\n",
      "Accuracy 0.839691270405 Precision Score 0.964620501966 Recall Score 0.74573365542\n",
      "*****************************************************\n",
      "Cut Off 0.236842105263\n",
      "Accuracy 0.832860184528 Precision Score 0.965779467681 Recall Score 0.732330709889\n",
      "*****************************************************\n",
      "Cut Off 0.263157894737\n",
      "Accuracy 0.826117814053 Precision Score 0.9667958521 Recall Score 0.719239460765\n",
      "*****************************************************\n",
      "Cut Off 0.289473684211\n",
      "Accuracy 0.822036905607 Precision Score 0.967263481301 Recall Score 0.711447050573\n",
      "*****************************************************\n",
      "Cut Off 0.315789473684\n",
      "Accuracy 0.816137331441 Precision Score 0.96719724672 Recall Score 0.700771448609\n",
      "*****************************************************\n",
      "Cut Off 0.342105263158\n",
      "Accuracy 0.81161284599 Precision Score 0.967647058824 Recall Score 0.692199797397\n",
      "*****************************************************\n",
      "Cut Off 0.368421052632\n",
      "Accuracy 0.808596522356 Precision Score 0.967816344464 Recall Score 0.686589262059\n",
      "*****************************************************\n",
      "Cut Off 0.394736842105\n",
      "Accuracy 0.803273598297 Precision Score 0.967594654788 Recall Score 0.677082521624\n",
      "*****************************************************\n",
      "Cut Off 0.421052631579\n",
      "Accuracy 0.796930447126 Precision Score 0.967281784218 Recall Score 0.665783526845\n",
      "*****************************************************\n",
      "Cut Off 0.447368421053\n",
      "Accuracy 0.785530518098 Precision Score 0.966954694068 Recall Score 0.645289488039\n",
      "*****************************************************\n",
      "Cut Off 0.473684210526\n",
      "Accuracy 0.776614620298 Precision Score 0.966606822262 Recall Score 0.629315047144\n",
      "*****************************************************\n",
      "Cut Off 0.5\n",
      "Accuracy 0.773642654365 Precision Score 0.966674716252 Recall Score 0.623860360009\n",
      "*****************************************************\n"
     ]
    }
   ],
   "source": [
    "pred_y_rnd_proba = rand_forest_mdl.predict_proba(test_processed_selectedFeatures.drop(['labelsMapped'], 1))\n",
    "for cut in np.linspace(0.0, 0.5, 20):\n",
    "    pred_bin = map(lambda x: 1 if x[1] >= cut else 0 ,pred_y_rnd_proba)\n",
    "    acc = accuracy_score(test_processed_selectedFeatures['labelsMapped'].map(lambda x: 0 if x == \"normal\" else 1), pred_bin)\n",
    "    prec = precision_score(test_processed_selectedFeatures['labelsMapped'].map(lambda x: 0 if x == \"normal\" else 1), pred_bin)\n",
    "    recall = recall_score(test_processed_selectedFeatures['labelsMapped'].map(lambda x: 0 if x == \"normal\" else 1), pred_bin)\n",
    "    print \"Cut Off\", cut\n",
    "    print \"Accuracy\", acc, 'Precision Score', prec, 'Recall Score', recall\n",
    "    print '*'*53"
   ]
  },
  {
   "cell_type": "markdown",
   "metadata": {},
   "source": [
    "Binary Classification without AR\n",
    "Random Forest\n",
    " 0.76694464158978004\n",
    " \n",
    "With AR\n",
    " 0.77625975869410935"
   ]
  },
  {
   "cell_type": "code",
   "execution_count": 17,
   "metadata": {},
   "outputs": [
    {
     "data": {
      "text/plain": [
       "array([ 0.4524312,  0.5475688], dtype=float32)"
      ]
     },
     "execution_count": 17,
     "metadata": {},
     "output_type": "execute_result"
    }
   ],
   "source": [
    "'''\n",
    "Cut Off 0.452631578947\n",
    "Accuracy 0.852155784244 Precision Score 0.883931458131 Recall Score 0.852177978649\n",
    "'''"
   ]
  },
  {
   "cell_type": "code",
   "execution_count": 14,
   "metadata": {},
   "outputs": [
    {
     "name": "stdout",
     "output_type": "stream",
     "text": [
      "Cut Off 0.457894736842\n",
      "Accuracy 0.803495386799 Precision Score 0.929293961377 Recall Score 0.708719707005\n"
     ]
    },
    {
     "data": {
      "text/html": [
       "<div>\n",
       "<style>\n",
       "    .dataframe thead tr:only-child th {\n",
       "        text-align: right;\n",
       "    }\n",
       "\n",
       "    .dataframe thead th {\n",
       "        text-align: left;\n",
       "    }\n",
       "\n",
       "    .dataframe tbody tr th {\n",
       "        vertical-align: top;\n",
       "    }\n",
       "</style>\n",
       "<table border=\"1\" class=\"dataframe\">\n",
       "  <thead>\n",
       "    <tr style=\"text-align: right;\">\n",
       "      <th>Predicted</th>\n",
       "      <th>0</th>\n",
       "      <th>1</th>\n",
       "      <th>All</th>\n",
       "    </tr>\n",
       "    <tr>\n",
       "      <th>True</th>\n",
       "      <th></th>\n",
       "      <th></th>\n",
       "      <th></th>\n",
       "    </tr>\n",
       "  </thead>\n",
       "  <tbody>\n",
       "    <tr>\n",
       "      <th>0</th>\n",
       "      <td>9019</td>\n",
       "      <td>692</td>\n",
       "      <td>9711</td>\n",
       "    </tr>\n",
       "    <tr>\n",
       "      <th>1</th>\n",
       "      <td>3738</td>\n",
       "      <td>9095</td>\n",
       "      <td>12833</td>\n",
       "    </tr>\n",
       "    <tr>\n",
       "      <th>All</th>\n",
       "      <td>12757</td>\n",
       "      <td>9787</td>\n",
       "      <td>22544</td>\n",
       "    </tr>\n",
       "  </tbody>\n",
       "</table>\n",
       "</div>"
      ],
      "text/plain": [
       "Predicted      0     1    All\n",
       "True                         \n",
       "0           9019   692   9711\n",
       "1           3738  9095  12833\n",
       "All        12757  9787  22544"
      ]
     },
     "execution_count": 14,
     "metadata": {},
     "output_type": "execute_result"
    }
   ],
   "source": [
    "cut = 0.457894736842 #0.452631578947 #\n",
    "pred_y_xgb_proba = mdl_xgb_binary.predict_proba(test_processed_selectedFeatures.drop(['labelsMapped'], 1))\n",
    "pred_bin = map(lambda x: 1 if x[1] >= cut else 0 ,pred_y_xgb_proba)\n",
    "acc = accuracy_score(test_processed_selectedFeatures['labelsMapped'].map(lambda x: 0 if x == \"normal\" else 1), pred_bin)\n",
    "prec = precision_score(test_processed_selectedFeatures['labelsMapped'].map(lambda x: 0 if x == \"normal\" else 1), pred_bin)\n",
    "recall = recall_score(test_processed_selectedFeatures['labelsMapped'].map(lambda x: 0 if x == \"normal\" else 1), pred_bin)\n",
    "print \"Cut Off\", cut\n",
    "print \"Accuracy\", acc, 'Precision Score', prec, 'Recall Score', recall\n",
    "pd.crosstab(test_processed_selectedFeatures['labelsMapped'].map(lambda x: 0 if x == \"normal\" else 1).values, np.array(pred_bin), rownames=['True'], colnames=['Predicted'], margins=True)"
   ]
  },
  {
   "cell_type": "code",
   "execution_count": 15,
   "metadata": {},
   "outputs": [
    {
     "name": "stdout",
     "output_type": "stream",
     "text": [
      "Cut Off 0.0526\n",
      "Accuracy 0.901392831796 Precision Score 0.921701112878 Recall Score 0.903529961817\n"
     ]
    },
    {
     "data": {
      "text/html": [
       "<div>\n",
       "<style>\n",
       "    .dataframe thead tr:only-child th {\n",
       "        text-align: right;\n",
       "    }\n",
       "\n",
       "    .dataframe thead th {\n",
       "        text-align: left;\n",
       "    }\n",
       "\n",
       "    .dataframe tbody tr th {\n",
       "        vertical-align: top;\n",
       "    }\n",
       "</style>\n",
       "<table border=\"1\" class=\"dataframe\">\n",
       "  <thead>\n",
       "    <tr style=\"text-align: right;\">\n",
       "      <th>Predicted</th>\n",
       "      <th>0</th>\n",
       "      <th>1</th>\n",
       "      <th>All</th>\n",
       "    </tr>\n",
       "    <tr>\n",
       "      <th>True</th>\n",
       "      <th></th>\n",
       "      <th></th>\n",
       "      <th></th>\n",
       "    </tr>\n",
       "  </thead>\n",
       "  <tbody>\n",
       "    <tr>\n",
       "      <th>0</th>\n",
       "      <td>8726</td>\n",
       "      <td>985</td>\n",
       "      <td>9711</td>\n",
       "    </tr>\n",
       "    <tr>\n",
       "      <th>1</th>\n",
       "      <td>1238</td>\n",
       "      <td>11595</td>\n",
       "      <td>12833</td>\n",
       "    </tr>\n",
       "    <tr>\n",
       "      <th>All</th>\n",
       "      <td>9964</td>\n",
       "      <td>12580</td>\n",
       "      <td>22544</td>\n",
       "    </tr>\n",
       "  </tbody>\n",
       "</table>\n",
       "</div>"
      ],
      "text/plain": [
       "Predicted     0      1    All\n",
       "True                         \n",
       "0          8726    985   9711\n",
       "1          1238  11595  12833\n",
       "All        9964  12580  22544"
      ]
     },
     "execution_count": 15,
     "metadata": {},
     "output_type": "execute_result"
    }
   ],
   "source": [
    "cut = 0.0526#0.0263157894737\n",
    "pred_y_rnd_proba = rand_forest_mdl.predict_proba(test_processed_selectedFeatures.drop(['labelsMapped'], 1))\n",
    "pred_bin = map(lambda x: 1 if x[1] >= cut else 0 ,pred_y_rnd_proba)\n",
    "acc = accuracy_score(test_processed_selectedFeatures['labelsMapped'].map(lambda x: 0 if x == \"normal\" else 1), pred_bin)\n",
    "prec = precision_score(test_processed_selectedFeatures['labelsMapped'].map(lambda x: 0 if x == \"normal\" else 1), pred_bin)\n",
    "recall = recall_score(test_processed_selectedFeatures['labelsMapped'].map(lambda x: 0 if x == \"normal\" else 1), pred_bin)\n",
    "print \"Cut Off\", cut\n",
    "print \"Accuracy\", acc, 'Precision Score', prec, 'Recall Score', recall\n",
    "\n",
    "pd.crosstab(test_processed_selectedFeatures['labelsMapped'].map(lambda x: 0 if x == \"normal\" else 1).values, np.array(pred_bin), rownames=['True'], colnames=['Predicted'], margins=True)"
   ]
  },
  {
   "cell_type": "code",
   "execution_count": 18,
   "metadata": {},
   "outputs": [
    {
     "name": "stdout",
     "output_type": "stream",
     "text": [
      "Model Accuracy for fold 1 is 0.998769645976\n",
      "Model Accuracy for fold 2 is 0.998888668387\n",
      "Model Accuracy for fold 3 is 0.998729906728\n",
      "Model Accuracy for fold 4 is 0.998968008256\n",
      "Model Accuracy for fold 5 is 0.999166468207\n",
      "The Average accuracy across 5 is 0.99890453951\n"
     ]
    }
   ],
   "source": [
    "#Binary Model Cross validation evaluation\n",
    "# Random Forest Classifier\n",
    "cut = 0.0263157894737\n",
    "from sklearn.model_selection import StratifiedKFold\n",
    "mdl = RandomForestClassifier(n_estimators = 100, max_depth = 20, class_weight=\"balanced\")\n",
    "\n",
    "X = train_processed_selectedFeatures.drop(['labelsMapped'], 1).reset_index(drop=True)\n",
    "y = train_processed_selectedFeatures['labelsMapped'].map(lambda x: 0 if x == \"normal\" else 1).reset_index(drop=True)\n",
    "cv = 5\n",
    "skf = StratifiedKFold(n_splits=cv, random_state = 42)\n",
    "RandomForestAccuracy = []\n",
    "cv_cut_re_acc = {}\n",
    "cv_cut_re_prec = {}\n",
    "cv_cut_re_rec = {}\n",
    "fold = 1\n",
    "for train_index, test_index in skf.split(X, y):\n",
    "    X_train, X_test = X.loc[train_index], X.loc[test_index]\n",
    "    y_train, y_test = y[train_index], y[test_index]\n",
    "    \n",
    "    mdl.fit(X_train, y_train)\n",
    "    pred_prob = mdl.predict_proba(X_test)\n",
    "    pred_y = mdl.predict(X_test)\n",
    "    for cut in np.linspace(0.0, 0.5, 20):\n",
    "        pred_bin = map(lambda x: 1 if x[1] >= cut else 0 ,pred_prob)\n",
    "        cv_cut_re_acc[cut] = cv_cut_re_acc.get(cut, []) + [accuracy_score(y_test, pred_bin)]\n",
    "        cv_cut_re_prec[cut] = cv_cut_re_prec.get(cut, []) + [precision_score(y_test, pred_bin)]\n",
    "        cv_cut_re_rec[cut] = cv_cut_re_rec.get(cut, []) + [recall_score(y_test, pred_bin)]\n",
    "\n",
    "    foldAccuracy = accuracy_score(y_test, pred_y)\n",
    "    print 'Model Accuracy for fold', fold, 'is', foldAccuracy\n",
    "    RandomForestAccuracy.append(foldAccuracy)\n",
    "    fold += 1\n",
    "print 'The Average accuracy across', cv, 'is', np.array(RandomForestAccuracy).mean()"
   ]
  },
  {
   "cell_type": "code",
   "execution_count": 22,
   "metadata": {},
   "outputs": [
    {
     "name": "stdout",
     "output_type": "stream",
     "text": [
      "Cut:  0.0 Accuracy:  0.465421436202 Precision:  0.465421436202 Recall:  1.0\n",
      "Cut:  0.0263157894737 Accuracy:  0.985766905719 Precision:  0.970358494261 Recall:  0.999965889225\n",
      "Cut:  0.0526315789474 Accuracy:  0.992673091141 Precision:  0.984585008996 Recall:  0.999914722336\n",
      "Cut:  0.0789473684211 Accuracy:  0.994641752098 Precision:  0.988769040983 Recall:  0.999846499332\n",
      "Cut:  0.105263157895 Accuracy:  0.996134123983 Precision:  0.991980304102 Recall:  0.999778274873\n",
      "Cut:  0.131578947368 Accuracy:  0.997023193685 Precision:  0.993946744534 Recall:  0.999692997209\n",
      "Cut:  0.157894736842 Accuracy:  0.997531237296 Precision:  0.995059893912 Recall:  0.99965888498\n",
      "Cut:  0.184210526316 Accuracy:  0.997880517357 Precision:  0.995887937516 Recall:  0.999573605861\n",
      "Cut:  0.210526315789 Accuracy:  0.998198041935 Precision:  0.996666544783 Recall:  0.999471270628\n",
      "Cut:  0.236842105263 Accuracy:  0.998452062795 Precision:  0.997243062884 Recall:  0.999437158399\n",
      "Cut:  0.263157894737 Accuracy:  0.998602886372 Precision:  0.997701153755 Recall:  0.999300710936\n",
      "Cut:  0.289473684211 Accuracy:  0.998682269722 Precision:  0.997989851017 Recall:  0.999181321043\n",
      "Cut:  0.315789473684 Accuracy:  0.998793403828 Precision:  0.99827883511 Recall:  0.999130152699\n",
      "Cut:  0.342105263158 Accuracy:  0.998920415361 Precision:  0.998619127766 Recall:  0.99906192824\n",
      "Cut:  0.368421052632 Accuracy:  0.998928353759 Precision:  0.998789245547 Recall:  0.998908426118\n",
      "Cut:  0.394736842105 Accuracy:  0.998952166748 Precision:  0.999010554676 Recall:  0.998737866426\n",
      "Cut:  0.421052631579 Accuracy:  0.998952165803 Precision:  0.999129784447 Recall:  0.998618475078\n",
      "Cut:  0.447368421053 Accuracy:  0.998952166748 Precision:  0.999214947114 Recall:  0.998533197414\n",
      "Cut:  0.473684210526 Accuracy:  0.998975981312 Precision:  0.999351342062 Recall:  0.998447916841\n",
      "Cut:  0.5 Accuracy:  0.998920415676 Precision:  0.999419481944 Recall:  0.998260303943\n"
     ]
    }
   ],
   "source": [
    "for cut in sorted(cv_cut_re_acc.keys()):\n",
    "    print \"Cut: \", cut, \"Accuracy: \", np.array(cv_cut_re_acc[cut]).mean(), \"Precision: \", np.array(cv_cut_re_prec[cut]).mean(), \"Recall: \", np.array(cv_cut_re_rec[cut]).mean()"
   ]
  },
  {
   "cell_type": "code",
   "execution_count": null,
   "metadata": {
    "collapsed": true
   },
   "outputs": [],
   "source": []
  },
  {
   "cell_type": "code",
   "execution_count": 25,
   "metadata": {},
   "outputs": [
    {
     "name": "stdout",
     "output_type": "stream",
     "text": [
      "Model Accuracy for fold 11 is 0.999920622321\n",
      "Model Accuracy for fold 12 is 0.999880928756\n",
      "Model Accuracy for fold 13 is 0.999960309585\n",
      "Model Accuracy for fold 14 is 1.0\n",
      "Model Accuracy for fold 15 is 0.999166468207\n",
      "The Average accuracy across 5 is 0.999785665774\n"
     ]
    }
   ],
   "source": [
    "#cut = 0.452631578947 Better decision cut-off: => 0.457894736842\n",
    "xgBoostAcc = []\n",
    "cv_cut_re_acc_xg = {}\n",
    "cv_cut_re_prec_xg = {}\n",
    "cv_cut_re_rec_xg = {}\n",
    "mdl_xgb_b = XGBClassifier(n_estimators = 100, max_depth = 20, learning_rate = 1e-3)\n",
    "for train_index, test_index in skf.split(X, y):\n",
    "    X_train, X_test = X.loc[train_index], X.loc[test_index]\n",
    "    y_train, y_test = y[train_index], y[test_index]\n",
    "    mdl_xgb_b.fit(X_train, y_train)\n",
    "    pred_prob = mdl_xgb_b.predict_proba(X_test)\n",
    "    \n",
    "    pred_y = mdl.predict(X_test)\n",
    "    for cut in np.linspace(0.4, 0.5, 20):\n",
    "        pred_bin = map(lambda x: 1 if x[1] >= cut else 0 ,pred_prob)\n",
    "        cv_cut_re_acc_xg[cut] = cv_cut_re_acc_xg.get(cut, []) + [accuracy_score(y_test, pred_bin)]\n",
    "        cv_cut_re_prec_xg[cut] = cv_cut_re_prec_xg.get(cut, []) + [precision_score(y_test, pred_bin)]\n",
    "        cv_cut_re_rec_xg[cut] = cv_cut_re_rec_xg.get(cut, []) + [recall_score(y_test, pred_bin)]\n",
    "\n",
    "    \n",
    "    #pred_bin = map(lambda x: 1 if x[1] >= cut else 0 ,pred_prob)\n",
    "    foldAccuracy = accuracy_score(y_test, pred_y)\n",
    "    print 'Model Accuracy for fold', fold, 'is', foldAccuracy\n",
    "    xgBoostAcc.append(foldAccuracy)\n",
    "    fold += 1\n",
    "print 'The Average accuracy across', cv, 'is', np.array(xgBoostAcc).mean()"
   ]
  },
  {
   "cell_type": "code",
   "execution_count": 26,
   "metadata": {},
   "outputs": [
    {
     "name": "stdout",
     "output_type": "stream",
     "text": [
      "Cut:  0.4 Accuracy:  0.465421436202 Precision:  0.465421436202 Recall:  1.0\n",
      "Cut:  0.405263157895 Accuracy:  0.465421436202 Precision:  0.465421436202 Recall:  1.0\n",
      "Cut:  0.410526315789 Accuracy:  0.465421436202 Precision:  0.465421436202 Recall:  1.0\n",
      "Cut:  0.415789473684 Accuracy:  0.465421436202 Precision:  0.465421436202 Recall:  1.0\n",
      "Cut:  0.421052631579 Accuracy:  0.465421436202 Precision:  0.465421436202 Recall:  1.0\n",
      "Cut:  0.426315789474 Accuracy:  0.465421436202 Precision:  0.465421436202 Recall:  1.0\n",
      "Cut:  0.431578947368 Accuracy:  0.465421436202 Precision:  0.465421436202 Recall:  1.0\n",
      "Cut:  0.436842105263 Accuracy:  0.465421436202 Precision:  0.465421436202 Recall:  1.0\n",
      "Cut:  0.442105263158 Accuracy:  0.465421436202 Precision:  0.465421436202 Recall:  1.0\n",
      "Cut:  0.447368421053 Accuracy:  0.465421436202 Precision:  0.465421436202 Recall:  1.0\n",
      "Cut:  0.452631578947 Accuracy:  0.897875445492 Precision:  0.820705716598 Recall:  0.999573610224\n",
      "Cut:  0.457894736842 Accuracy:  0.994316314327 Precision:  0.98953949793 Recall:  0.998345594697\n",
      "Cut:  0.463157894737 Accuracy:  0.995840421529 Precision:  0.992958788736 Recall:  0.998140922776\n",
      "Cut:  0.468421052632 Accuracy:  0.996634231715 Precision:  0.994814449774 Recall:  0.997970365994\n",
      "Cut:  0.473684210526 Accuracy:  0.996920005853 Precision:  0.995541859174 Recall:  0.997850977554\n",
      "Cut:  0.478947368421 Accuracy:  0.997054954838 Precision:  0.996032676594 Recall:  0.997646305634\n",
      "Cut:  0.484210526316 Accuracy:  0.997110522364 Precision:  0.996388162319 Recall:  0.997407524392\n",
      "Cut:  0.489473684211 Accuracy:  0.997197841277 Precision:  0.996727168515 Recall:  0.997254020815\n",
      "Cut:  0.494736842105 Accuracy:  0.997245469775 Precision:  0.997134208073 Recall:  0.996947018024\n",
      "Cut:  0.5 Accuracy:  0.997301037616 Precision:  0.997389012404 Recall:  0.996810570562\n"
     ]
    }
   ],
   "source": [
    "for cut in sorted(cv_cut_re_acc_xg.keys()):\n",
    "    print \"Cut: \", cut, \"Accuracy: \", np.array(cv_cut_re_acc_xg[cut]).mean(), \"Precision: \", np.array(cv_cut_re_prec_xg[cut]).mean(), \"Recall: \", np.array(cv_cut_re_rec_xg[cut]).mean()"
   ]
  },
  {
   "cell_type": "code",
   "execution_count": 39,
   "metadata": {},
   "outputs": [
    {
     "data": {
      "text/plain": [
       "<matplotlib.axes._subplots.AxesSubplot at 0x110625ad0>"
      ]
     },
     "execution_count": 39,
     "metadata": {},
     "output_type": "execute_result"
    },
    {
     "data": {
      "image/png": "[encoded data removed]",
      "text/plain": [
       "<matplotlib.figure.Figure at 0x1a1dfcbe90>"
      ]
     },
     "metadata": {},
     "output_type": "display_data"
    }
   ],
   "source": [
    "pd.Series(pred_y_xgb_proba[:, 1]).hist()\n"
   ]
  },
  {
   "cell_type": "code",
   "execution_count": 40,
   "metadata": {},
   "outputs": [
    {
     "data": {
      "text/plain": [
       "<matplotlib.axes._subplots.AxesSubplot at 0x1a1e978850>"
      ]
     },
     "execution_count": 40,
     "metadata": {},
     "output_type": "execute_result"
    },
    {
     "data": {
      "image/png": "[encoded data removed]",
      "text/plain": [
       "<matplotlib.figure.Figure at 0x1103695d0>"
      ]
     },
     "metadata": {},
     "output_type": "display_data"
    }
   ],
   "source": [
    "test_processed_selectedFeatures['labelsMapped'].map(lambda x: 0 if x == \"normal\" else 1).hist()"
   ]
  },
  {
   "cell_type": "code",
   "execution_count": 9,
   "metadata": {},
   "outputs": [
    {
     "data": {
      "text/plain": [
       "<matplotlib.axes._subplots.AxesSubplot at 0x10d3b5690>"
      ]
     },
     "execution_count": 9,
     "metadata": {},
     "output_type": "execute_result"
    },
    {
     "data": {
      "image/png": "[encoded data removed]",
      "text/plain": [
       "<matplotlib.figure.Figure at 0x113df4ad0>"
      ]
     },
     "metadata": {},
     "output_type": "display_data"
    }
   ],
   "source": [
    "pd.Series(rand_forest_mdl.predict_proba(train_processed_selectedFeatures.drop(['labelsMapped'], 1))[:, 1]).hist()"
   ]
  },
  {
   "cell_type": "code",
   "execution_count": 25,
   "metadata": {},
   "outputs": [
    {
     "data": {
      "image/png": "[encoded data removed]",
      "text/plain": [
       "<matplotlib.figure.Figure at 0x1a13e38c10>"
      ]
     },
     "metadata": {},
     "output_type": "display_data"
    }
   ],
   "source": [
    "temp = pd.Series(rand_forest_mdl.predict_proba(train_processed_selectedFeatures.drop(['labelsMapped'], 1))[:, 1])\n",
    "fig, ax = plt.subplots()\n",
    "temp.hist()\n",
    "ax.set_yscale('linear')"
   ]
  },
  {
   "cell_type": "code",
   "execution_count": 26,
   "metadata": {},
   "outputs": [
    {
     "data": {
      "image/png": "[encoded data removed]",
      "text/plain": [
       "<matplotlib.figure.Figure at 0x1a0f775510>"
      ]
     },
     "metadata": {},
     "output_type": "display_data"
    }
   ],
   "source": [
    "temp = pd.Series(mdl_xgb_binary.predict_proba(train_processed_selectedFeatures.drop(['labelsMapped'], 1))[:, 1])\n",
    "fig, ax = plt.subplots()\n",
    "temp.hist()\n",
    "ax.set_yscale('linear')\n"
   ]
  },
  {
   "cell_type": "code",
   "execution_count": 19,
   "metadata": {},
   "outputs": [
    {
     "data": {
      "text/plain": [
       "0.0"
      ]
     },
     "execution_count": 19,
     "metadata": {},
     "output_type": "execute_result"
    }
   ],
   "source": [
    "temp.min()"
   ]
  },
  {
   "cell_type": "code",
   "execution_count": null,
   "metadata": {
    "collapsed": true
   },
   "outputs": [],
   "source": []
  }
 ],
 "metadata": {
  "kernelspec": {
   "display_name": "Python 2",
   "language": "python",
   "name": "python2"
  },
  "language_info": {
   "codemirror_mode": {
    "name": "ipython",
    "version": 2
   },
   "file_extension": ".py",
   "mimetype": "text/x-python",
   "name": "python",
   "nbconvert_exporter": "python",
   "pygments_lexer": "ipython2",
   "version": "2.7.14"
  }
 },
 "nbformat": 4,
 "nbformat_minor": 2
}
